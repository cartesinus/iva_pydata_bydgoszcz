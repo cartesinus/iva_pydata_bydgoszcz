{
  "nbformat": 4,
  "nbformat_minor": 0,
  "metadata": {
    "colab": {
      "provenance": [],
      "machine_shape": "hm",
      "gpuType": "T4"
    },
    "kernelspec": {
      "name": "python3",
      "display_name": "Python 3"
    },
    "language_info": {
      "name": "python"
    },
    "accelerator": "GPU"
  },
  "cells": [
    {
      "cell_type": "code",
      "execution_count": null,
      "metadata": {
        "id": "kw3StULPtVe1"
      },
      "outputs": [],
      "source": [
        "%%capture\n",
        "!pip install transformers[torch] datasets seqeval #tensorboard matplotlib pandas sklearn ==4.28.1"
      ]
    },
    {
      "cell_type": "code",
      "source": [
        "!apt install git-lfs"
      ],
      "metadata": {
        "id": "ADGAu2bxtW6W"
      },
      "execution_count": null,
      "outputs": []
    },
    {
      "cell_type": "code",
      "source": [
        " import os\n",
        " from huggingface_hub import notebook_login, HfFolder\n",
        "\n",
        " notebook_login()"
      ],
      "metadata": {
        "id": "eYdoigUotdIv"
      },
      "execution_count": null,
      "outputs": []
    },
    {
      "cell_type": "code",
      "source": [
        " token = HfFolder.get_token()\n",
        " os.environ['HF_TOKEN'] = token"
      ],
      "metadata": {
        "id": "ERp6vQxwtjhw"
      },
      "execution_count": null,
      "outputs": []
    },
    {
      "cell_type": "code",
      "source": [
        "!git clone https://github.com/cartesinus/joint_nlu\n",
        "%cd joint_nlu"
      ],
      "metadata": {
        "id": "O0y96roptlhH"
      },
      "execution_count": null,
      "outputs": []
    },
    {
      "cell_type": "markdown",
      "source": [
        "now upload calendar.json, custom.py and iva_calendar-corpora-en_US-0.1.0-20231112.tsv to joint_nlu dir"
      ],
      "metadata": {
        "id": "k6qCf1G5toXE"
      }
    },
    {
      "cell_type": "code",
      "source": [
        "!python train.py --config calendar.json"
      ],
      "metadata": {
        "id": "Zx7aLuqKtm1E"
      },
      "execution_count": null,
      "outputs": []
    }
  ]
}